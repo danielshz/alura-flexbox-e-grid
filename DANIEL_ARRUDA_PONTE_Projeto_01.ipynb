{
  "nbformat": 4,
  "nbformat_minor": 0,
  "metadata": {
    "colab": {
      "provenance": [],
      "toc_visible": true,
      "authorship_tag": "ABX9TyMjt+XEoAFIkWpkMOeBjso8",
      "include_colab_link": true
    },
    "kernelspec": {
      "name": "python3",
      "display_name": "Python 3"
    },
    "language_info": {
      "name": "python"
    }
  },
  "cells": [
    {
      "cell_type": "markdown",
      "metadata": {
        "id": "view-in-github",
        "colab_type": "text"
      },
      "source": [
        "<a href=\"https://colab.research.google.com/github/danielShz/Alura-Flexbox-e-Grid/blob/main/DANIEL_ARRUDA_PONTE_Projeto_01.ipynb\" target=\"_parent\"><img src=\"https://colab.research.google.com/assets/colab-badge.svg\" alt=\"Open In Colab\"/></a>"
      ]
    },
    {
      "cell_type": "markdown",
      "source": [
        "# Descrição da modelagem\n",
        "\n",
        "O tabuleiro do jogo descrito no trabalho, consiste em 40 casas, as quais cada jogador pode acessar por meio da rolagem de dois dados, movendo-se de acordo com a soma desses dados – com números iguais ou números diferentes. Se o jogador obtém dois números iguais no lançamento, ele joga novamente, caso contrário ele apenas se move normalmente. Caso o jogador obtenha 3 lançamentos com números iguais ocorrendo em sequência, ele vai para a prisão – casa 20 – com o *status* de **prisioneiro**. Nessa situação, o jogador pode passar no máximo 3 rodadas preso, podendo ser liberto caso obtenha um lançamento com números iguais. Esse processo de liberação caracteriza-se por uma simples mudança de *status* do jogador, trocando para **livre** sem alterar sua posição no tabuleiro.\n",
        "\n",
        "| Soma | Probabilidade (números diferentes) | Probabilidade (números iguais) |\n",
        "| --- | --- | --- |\n",
        "| 2 | 0 | 1 / 36 |\n",
        "| 3 | 1 / 18 | 0 |\n",
        "| 4 | 1 / 18 | 1 / 36 |\n",
        "| 5 | 1 / 9 | 0 |\n",
        "| 6 | 1 / 9  | 1 / 36 |\n",
        "| 7 | 1 / 6 | 0 |\n",
        "| 8 | 1 / 9 | 1 / 36 |\n",
        "| 9 | 1 / 9 | 0 |\n",
        "| 10 | 1 / 18 | 1 / 36 |\n",
        "| 11 | 1 / 18 | 0 |\n",
        "| 12 | 0 | 1 / 36 |\n",
        "\n",
        "*Tabela 1: Distribuição de probabilidade da soma de dois dados*\n",
        "\n",
        "Para modelar como um jogador se moverá no tabuleiro, o cálculo das probabilidades se focará no lançamento de dois dados honestos, atentando-se à situação da rolagem de números distintos e de números iguais. Inicialmente, pensando apenas na posição do jogador, haveria apenas 40 estados para serem modelados, um para cada casa do tabuleiro. No entanto, devemos considerar mais estados que afetam a forma de movimentar-se no tabuleiro de acordo com a quantidade de lançamentos de valores iguais.\n",
        "\n",
        "Um exemplo não abrangido pelo modelo 40x40, é representado pela situação na qual o jogador obteve dois lançamentos com valores iguais, acarretando numa maior probabilidade de ir para à prisão quando comparado com um jogador que está na mesma posição e não lançou números iguais. A partir disso, surge a necessidade de armazenar estados auxiliares, pois a Cadeia de Markov possui a propriedade de calcular a probabilidade de atingir um estado com base num estado imediatamente anterior, o que é impossível no caso do terceiro lançamento de valores iguais, por exemplo, pois deve-se ter ciência da ocorrência dos dois lançamentos anteriores antes do jogador ser preso. Dessa forma, o modelo aumenta para 120x120, com o intuito de armazenar o estado de lançar números iguais pela primeira vez (*status* = **suspeito**) e pela segunda vez (*status* = **muito suspeito**) numa determinada posição do tabuleiro.\n",
        "\n",
        "Além disso, há o contexto de estar **preso**, cujas implicações para o jogador alteram a distribuição de probabilidade da futura posição no tabuleiro após o lançamento dos dados. Nesse caso, deve-se adicionar dois estados a mais: primeira rodada **preso** (*status* = **recém prisioneiro**) e segunda rodada **preso** (*status* = **prisioneiro**). Isso ocorre devido à diferença de *status* **prisioneiro** e **livre**, no primeiro, o lançamento de números iguais possui a chance de libertação, enquanto no segundo representa a possibilidade ser preso, logo, não podem ser tratados com o mesmo estado, apesar de estarem na mesma posição do tabuleiro. Portanto, temos uma matriz de transição de 122x122.\n",
        "\n",
        "![grafo_Jogo.png](https://drive.google.com/uc?export=view&id=163ZKXNqRrutgEKhXxAUbZQSd9Ud3TUnZ)\n",
        "\n",
        "*Imagem 1: Grafo da modelagem 122x122*\n",
        "\n",
        "Em resumo, é possível categorizar cada estado da matriz em função de dois parâmetros: a posição do jogador e seu *status*, o qual muda o significado que os lançamentos de números iguais e as jogadas de números distintos possuem.\n",
        "\n",
        "Segue abaixo uma tabela com o significado dos lançamentos iguais e diferentes de acordo com o s*tatus:*\n",
        "\n",
        "| Status | Números iguais | Números Diferentes |\n",
        "| --- | --- | --- |\n",
        "| Livre | Vira Suspeito | Movimentação normal |\n",
        "| Suspeito | Vira Muito suspeito | Movimentação normal e vira Livre |\n",
        "| Muito suspeito | Vira Recém prisioneiro e é movido para a casa 20 | Movimentação normal e vira Livre |\n",
        "| Recém prisioneiro | Vira Livre | Vira Prisioneiro |\n",
        "| Prisioneiro | Vira Livre | Vira Livre |\n",
        "\n",
        "*Tabela 2: Mudança de status/movimentação de acordo com o tipo de lançamento e com o status anterior*"
      ],
      "metadata": {
        "id": "rIT2w-J6Oj1T"
      }
    },
    {
      "cell_type": "markdown",
      "source": [
        "## Estrutura da matriz de transição\n",
        "\n",
        "Seja $X_{t} = \\text{posição no tabuleiro no tempo t} = c$\n",
        "\n",
        "**Composição da Matriz de transição:**\n",
        "\n",
        "1. Movimentação para a casa c através de números distintos (*status* = **livre**)\n",
        "    - Índices de 0 a 39\n",
        "2. Obtenção de números iguais pela primeira vez, estando na casa c (*status* = **suspeito**)\n",
        "    - Índices de 40 a 79\n",
        "3. Obtenção de números iguais pela segunda vez, estando na casa c (*status* = **muito suspeito**)\n",
        "    - Índices de 80 a 119\n",
        "4. Primeira rodada estando preso (*status* = **recém prisioneiro**)\n",
        "    - Índice de 120\n",
        "5. Segunda rodada estando preso (*status* = **prisioneiro**)\n",
        "    - Índice de 121\n",
        "\n",
        "**Subconjuntos significativos da lista acima:**\n",
        "\n",
        "- Visita à prisão, subconjunto do 1º item da lista (*status* = **livre**)\n",
        "    - Índice 19\n",
        "- Obtenção de valores iguais pela primeira vez, durante a visita à prisão, subconjunto do 2º item da lista (*status* = **suspeito**)\n",
        "    - Índice 59\n",
        "- Obtenção de valores iguais pela segunda vez, durante a visita à prisão, subconjunto do 3º item da lista (*status* = **muito suspeito**)\n",
        "    - Índice 99"
      ],
      "metadata": {
        "id": "fdqBs34lX2JR"
      }
    },
    {
      "cell_type": "code",
      "source": [
        "import numpy\n",
        "import numpy.matlib"
      ],
      "metadata": {
        "id": "_1rXvg7btL8R"
      },
      "execution_count": null,
      "outputs": []
    },
    {
      "cell_type": "markdown",
      "source": [
        "### Cálculo do espaço amostral da rolagem de dois dados\n",
        "\n",
        "Separando lançamento de números iguais e de números distintos"
      ],
      "metadata": {
        "id": "cVZcwVDCDGY0"
      }
    },
    {
      "cell_type": "code",
      "source": [
        "dado1 = numpy.arange(1, 7)\n",
        "dado2 = numpy.arange(1, 7)\n",
        "\n",
        "somaValoresDistintos = []\n",
        "somaValoresIguais = []\n",
        "\n",
        "for i in dado1:\n",
        "  for j in dado2:\n",
        "    if j == i:\n",
        "      somaValoresIguais.append(i + j)\n",
        "    else:\n",
        "      somaValoresDistintos.append(i + j)\n",
        "\n",
        "totalDeRolagens = len(somaValoresIguais) + len(somaValoresDistintos)\n",
        "\n",
        "print(f'Soma de valores iguais: {somaValoresIguais}')\n",
        "print(f'Soma de valores distintos: {somaValoresDistintos}')"
      ],
      "metadata": {
        "colab": {
          "base_uri": "https://localhost:8080/"
        },
        "id": "1Z80wh5doBgv",
        "outputId": "4b997e9e-7dae-4bf4-ce2c-f46e9c8b13a9"
      },
      "execution_count": null,
      "outputs": [
        {
          "output_type": "stream",
          "name": "stdout",
          "text": [
            "Soma de valores iguais: [2, 4, 6, 8, 10, 12]\n",
            "Soma de valores distintos: [3, 4, 5, 6, 7, 3, 5, 6, 7, 8, 4, 5, 7, 8, 9, 5, 6, 7, 9, 10, 6, 7, 8, 9, 11, 7, 8, 9, 10, 11]\n"
          ]
        }
      ]
    },
    {
      "cell_type": "markdown",
      "source": [
        "### Cálculo das probabilidades de números diferentes"
      ],
      "metadata": {
        "id": "YiJ0CX3ZDPsr"
      }
    },
    {
      "cell_type": "code",
      "source": [
        "somaDistintos = []\n",
        "probabilidadeDistintos = []\n",
        "\n",
        "somaSemRepeticao = list(dict.fromkeys(somaValoresDistintos))\n",
        "\n",
        "for i in somaSemRepeticao:\n",
        "  somaDistintos.append(i)\n",
        "  probabilidadeDistintos.append(somaValoresDistintos.count(i) / totalDeRolagens)\n",
        "\n",
        "print(somaDistintos)\n",
        "print(probabilidadeDistintos)"
      ],
      "metadata": {
        "colab": {
          "base_uri": "https://localhost:8080/"
        },
        "id": "lNZ3e42QaHM1",
        "outputId": "072edf9f-24bb-43a7-c6ea-62b0cbbc2f13"
      },
      "execution_count": null,
      "outputs": [
        {
          "output_type": "stream",
          "name": "stdout",
          "text": [
            "[3, 4, 5, 6, 7, 8, 9, 10, 11]\n",
            "[0.05555555555555555, 0.05555555555555555, 0.1111111111111111, 0.1111111111111111, 0.16666666666666666, 0.1111111111111111, 0.1111111111111111, 0.05555555555555555, 0.05555555555555555]\n"
          ]
        }
      ]
    },
    {
      "cell_type": "markdown",
      "source": [
        "### Cálculo das probabalidades das números iguais"
      ],
      "metadata": {
        "id": "mkQRbUFMDjok"
      }
    },
    {
      "cell_type": "code",
      "source": [
        "somaIguais = []\n",
        "probabilidadeIguais = []\n",
        "\n",
        "for i in somaValoresIguais:\n",
        "  somaIguais.append(i)\n",
        "  probabilidadeIguais.append(somaValoresIguais.count(i) / totalDeRolagens)\n",
        "\n",
        "print(somaIguais)\n",
        "print(probabilidadeIguais)"
      ],
      "metadata": {
        "colab": {
          "base_uri": "https://localhost:8080/"
        },
        "id": "UBzp9QCdafLE",
        "outputId": "d313e433-03bb-4a5d-a841-1386b34a321c"
      },
      "execution_count": null,
      "outputs": [
        {
          "output_type": "stream",
          "name": "stdout",
          "text": [
            "[2, 4, 6, 8, 10, 12]\n",
            "[0.027777777777777776, 0.027777777777777776, 0.027777777777777776, 0.027777777777777776, 0.027777777777777776, 0.027777777777777776]\n"
          ]
        }
      ]
    },
    {
      "cell_type": "markdown",
      "source": [
        "# Construção da matriz de transição\n",
        "\n",
        "## Preenchimento dos índices de 0 a 39 (status = **livre**)\n",
        "\n",
        "* Se números diferentes, então movimentação normal\n",
        "\n",
        "* Se números iguais, então status = **suspeito** e permanece na mesma casa (índices de 40 a 79)\n"
      ],
      "metadata": {
        "id": "D_okPhjlEVks"
      }
    },
    {
      "cell_type": "code",
      "source": [
        "P = numpy.zeros((122, 122))\n",
        "\n",
        "for i in range(0, 40):\n",
        "  for j in range(0, 80):\n",
        "    if (j - i) % 40 in somaSemRepeticao and j < 40:\n",
        "      P[i][j] = probabilidadeDistintos[(j - i) % 40 - 3]\n",
        "    elif j % 40 == i and j > i:\n",
        "      P[i][j] = sum(probabilidadeIguais)\n",
        "\n",
        "for i in range(0, 40):\n",
        "  print(f'Soma da linha {i} = {sum(P[i])}')"
      ],
      "metadata": {
        "id": "uFRmKq-QtpWg",
        "colab": {
          "base_uri": "https://localhost:8080/"
        },
        "outputId": "41d7bd21-476a-4feb-bc09-929480eecbff"
      },
      "execution_count": null,
      "outputs": [
        {
          "output_type": "stream",
          "name": "stdout",
          "text": [
            "Soma da linha 0 = 1.0000000000000002\n",
            "Soma da linha 1 = 1.0000000000000002\n",
            "Soma da linha 2 = 1.0000000000000002\n",
            "Soma da linha 3 = 1.0000000000000002\n",
            "Soma da linha 4 = 1.0000000000000002\n",
            "Soma da linha 5 = 1.0000000000000002\n",
            "Soma da linha 6 = 1.0000000000000002\n",
            "Soma da linha 7 = 1.0000000000000002\n",
            "Soma da linha 8 = 1.0000000000000002\n",
            "Soma da linha 9 = 1.0000000000000002\n",
            "Soma da linha 10 = 1.0000000000000002\n",
            "Soma da linha 11 = 1.0000000000000002\n",
            "Soma da linha 12 = 1.0000000000000002\n",
            "Soma da linha 13 = 1.0000000000000002\n",
            "Soma da linha 14 = 1.0000000000000002\n",
            "Soma da linha 15 = 1.0000000000000002\n",
            "Soma da linha 16 = 1.0000000000000002\n",
            "Soma da linha 17 = 1.0000000000000002\n",
            "Soma da linha 18 = 1.0000000000000002\n",
            "Soma da linha 19 = 1.0000000000000002\n",
            "Soma da linha 20 = 1.0000000000000002\n",
            "Soma da linha 21 = 1.0000000000000002\n",
            "Soma da linha 22 = 1.0000000000000002\n",
            "Soma da linha 23 = 1.0000000000000002\n",
            "Soma da linha 24 = 1.0000000000000002\n",
            "Soma da linha 25 = 1.0000000000000002\n",
            "Soma da linha 26 = 1.0000000000000002\n",
            "Soma da linha 27 = 1.0000000000000002\n",
            "Soma da linha 28 = 1.0000000000000002\n",
            "Soma da linha 29 = 1.0000000000000002\n",
            "Soma da linha 30 = 1.0\n",
            "Soma da linha 31 = 1.0\n",
            "Soma da linha 32 = 1.0\n",
            "Soma da linha 33 = 1.0000000000000002\n",
            "Soma da linha 34 = 1.0000000000000002\n",
            "Soma da linha 35 = 1.0\n",
            "Soma da linha 36 = 1.0000000000000002\n",
            "Soma da linha 37 = 1.0000000000000002\n",
            "Soma da linha 38 = 1.0000000000000002\n",
            "Soma da linha 39 = 1.0000000000000002\n"
          ]
        }
      ]
    },
    {
      "cell_type": "markdown",
      "source": [
        "## Preenchimento dos índices de 40 a 79 (status = **suspeito**)\n",
        "\n",
        "* Se números diferentes, então movimentação normal e vira livre (índices de 0 a 39)\n",
        "* Se números iguais, então status = **muito suspeito** e permanece na mesma casa (índices de 80 a 119)"
      ],
      "metadata": {
        "id": "Mj_tgOCk69dm"
      }
    },
    {
      "cell_type": "code",
      "source": [
        "for i in range(40, 80):\n",
        "  for j in range(0, 120):\n",
        "    if j < 40 and (j - i % 40) % 40 in somaSemRepeticao:\n",
        "      P[i][j] = probabilidadeDistintos[(j - i % 40) % 40 - 3]\n",
        "    elif j % 40 == i % 40 and j >= 80:\n",
        "      P[i][j] = sum(probabilidadeIguais)\n",
        "\n",
        "for i in range(40, 80):\n",
        "  print(f'Soma da linha {i} = {sum(P[i])}')"
      ],
      "metadata": {
        "colab": {
          "base_uri": "https://localhost:8080/"
        },
        "id": "SU7n8-DPivM1",
        "outputId": "1e72eed2-c3b0-47db-a83a-79bcb954cfb1"
      },
      "execution_count": null,
      "outputs": [
        {
          "output_type": "stream",
          "name": "stdout",
          "text": [
            "Soma da linha 40 = 1.0000000000000002\n",
            "Soma da linha 41 = 1.0000000000000002\n",
            "Soma da linha 42 = 1.0000000000000002\n",
            "Soma da linha 43 = 1.0000000000000002\n",
            "Soma da linha 44 = 1.0000000000000002\n",
            "Soma da linha 45 = 1.0000000000000002\n",
            "Soma da linha 46 = 1.0000000000000002\n",
            "Soma da linha 47 = 1.0000000000000002\n",
            "Soma da linha 48 = 1.0000000000000002\n",
            "Soma da linha 49 = 1.0000000000000002\n",
            "Soma da linha 50 = 1.0000000000000002\n",
            "Soma da linha 51 = 1.0000000000000002\n",
            "Soma da linha 52 = 1.0000000000000002\n",
            "Soma da linha 53 = 1.0000000000000002\n",
            "Soma da linha 54 = 1.0000000000000002\n",
            "Soma da linha 55 = 1.0000000000000002\n",
            "Soma da linha 56 = 1.0000000000000002\n",
            "Soma da linha 57 = 1.0000000000000002\n",
            "Soma da linha 58 = 1.0000000000000002\n",
            "Soma da linha 59 = 1.0000000000000002\n",
            "Soma da linha 60 = 1.0000000000000002\n",
            "Soma da linha 61 = 1.0000000000000002\n",
            "Soma da linha 62 = 1.0000000000000002\n",
            "Soma da linha 63 = 1.0000000000000002\n",
            "Soma da linha 64 = 1.0000000000000002\n",
            "Soma da linha 65 = 1.0000000000000002\n",
            "Soma da linha 66 = 1.0000000000000002\n",
            "Soma da linha 67 = 1.0000000000000002\n",
            "Soma da linha 68 = 1.0000000000000002\n",
            "Soma da linha 69 = 1.0000000000000002\n",
            "Soma da linha 70 = 1.0\n",
            "Soma da linha 71 = 1.0\n",
            "Soma da linha 72 = 1.0\n",
            "Soma da linha 73 = 1.0000000000000002\n",
            "Soma da linha 74 = 1.0000000000000002\n",
            "Soma da linha 75 = 1.0\n",
            "Soma da linha 76 = 1.0000000000000002\n",
            "Soma da linha 77 = 1.0000000000000002\n",
            "Soma da linha 78 = 1.0000000000000002\n",
            "Soma da linha 79 = 1.0000000000000002\n"
          ]
        }
      ]
    },
    {
      "cell_type": "markdown",
      "source": [
        "## Preenchimento dos índices de 80 a 119 (status = **muito suspeito**)\n",
        "\n",
        "* Se números diferentes, então movimentação normal e vira livre (índices de 0 a 39)\n",
        "* Se números iguais, então status = **recém prisioneiro** e vai para a prisão, casa 20 (índice de 120)"
      ],
      "metadata": {
        "id": "0LE9BHa57OsW"
      }
    },
    {
      "cell_type": "code",
      "source": [
        "for i in range(80, 120):\n",
        "  for j in range(0, 40):\n",
        "    if j < 40 and (j - i % 40) % 40 in somaSemRepeticao:\n",
        "      P[i][j] = probabilidadeDistintos[(j - i % 40) % 40 - 3]\n",
        "\n",
        "  P[i][120] = sum(probabilidadeIguais)\n",
        "\n",
        "for i in range(80, 120):\n",
        "  print(f'Soma da linha {i} = {sum(P[i])}')"
      ],
      "metadata": {
        "colab": {
          "base_uri": "https://localhost:8080/"
        },
        "id": "q4PTnJ3231l4",
        "outputId": "dd77ec4e-cd98-4b89-9527-5442e9dd1213"
      },
      "execution_count": null,
      "outputs": [
        {
          "output_type": "stream",
          "name": "stdout",
          "text": [
            "Soma da linha 80 = 1.0000000000000002\n",
            "Soma da linha 81 = 1.0000000000000002\n",
            "Soma da linha 82 = 1.0000000000000002\n",
            "Soma da linha 83 = 1.0000000000000002\n",
            "Soma da linha 84 = 1.0000000000000002\n",
            "Soma da linha 85 = 1.0000000000000002\n",
            "Soma da linha 86 = 1.0000000000000002\n",
            "Soma da linha 87 = 1.0000000000000002\n",
            "Soma da linha 88 = 1.0000000000000002\n",
            "Soma da linha 89 = 1.0000000000000002\n",
            "Soma da linha 90 = 1.0000000000000002\n",
            "Soma da linha 91 = 1.0000000000000002\n",
            "Soma da linha 92 = 1.0000000000000002\n",
            "Soma da linha 93 = 1.0000000000000002\n",
            "Soma da linha 94 = 1.0000000000000002\n",
            "Soma da linha 95 = 1.0000000000000002\n",
            "Soma da linha 96 = 1.0000000000000002\n",
            "Soma da linha 97 = 1.0000000000000002\n",
            "Soma da linha 98 = 1.0000000000000002\n",
            "Soma da linha 99 = 1.0000000000000002\n",
            "Soma da linha 100 = 1.0000000000000002\n",
            "Soma da linha 101 = 1.0000000000000002\n",
            "Soma da linha 102 = 1.0000000000000002\n",
            "Soma da linha 103 = 1.0000000000000002\n",
            "Soma da linha 104 = 1.0000000000000002\n",
            "Soma da linha 105 = 1.0000000000000002\n",
            "Soma da linha 106 = 1.0000000000000002\n",
            "Soma da linha 107 = 1.0000000000000002\n",
            "Soma da linha 108 = 1.0000000000000002\n",
            "Soma da linha 109 = 1.0000000000000002\n",
            "Soma da linha 110 = 1.0\n",
            "Soma da linha 111 = 1.0\n",
            "Soma da linha 112 = 1.0\n",
            "Soma da linha 113 = 1.0000000000000002\n",
            "Soma da linha 114 = 1.0000000000000002\n",
            "Soma da linha 115 = 1.0\n",
            "Soma da linha 116 = 1.0000000000000002\n",
            "Soma da linha 117 = 1.0000000000000002\n",
            "Soma da linha 118 = 1.0000000000000002\n",
            "Soma da linha 119 = 1.0000000000000002\n"
          ]
        }
      ]
    },
    {
      "cell_type": "markdown",
      "source": [
        "## Preenchimento dos índices de 120 a 121 (status = **recém prisioneiro** e **prisioneiro**)\n",
        "\n",
        "### Recém prisioneiro\n",
        "* Se números diferentes, então status = **prisioneiro** (índice 121)\n",
        "* Se números iguais, então status = **livre** e vira visitante da prisão (índice 19)\n",
        "\n",
        "### Prisioneiro\n",
        "\n",
        "* Status = **livre** e vira visitante da prisão (índice 19), independente do lançamento"
      ],
      "metadata": {
        "id": "Z8zSd52e7kbm"
      }
    },
    {
      "cell_type": "code",
      "source": [
        "P[120][19] = sum(probabilidadeIguais)\n",
        "P[120][121] = sum(probabilidadeDistintos)\n",
        "\n",
        "P[121][19] = sum(probabilidadeIguais) + sum(probabilidadeDistintos)\n",
        "\n",
        "for i in range(120, 122):\n",
        "  print(f'Soma da linha {i} = {sum(P[i])}')"
      ],
      "metadata": {
        "colab": {
          "base_uri": "https://localhost:8080/"
        },
        "id": "yMDpLmTH1V1E",
        "outputId": "8c62e322-315c-45cb-cdbc-1c11ee77d7eb"
      },
      "execution_count": null,
      "outputs": [
        {
          "output_type": "stream",
          "name": "stdout",
          "text": [
            "Soma da linha 120 = 1.0000000000000002\n",
            "Soma da linha 121 = 1.0000000000000002\n"
          ]
        }
      ]
    },
    {
      "cell_type": "markdown",
      "source": [
        "## Exibição da matriz"
      ],
      "metadata": {
        "id": "nNoPUico-RO2"
      }
    },
    {
      "cell_type": "code",
      "source": [
        "def exibirMatriz(matriz, linha):\n",
        "  tabelaLinha = []\n",
        "\n",
        "  for i in range(len(matriz[linha])):\n",
        "    tabelaLinha.append([i, matriz[linha][i]])\n",
        "\n",
        "  print(tabulate(tabelaLinha, headers=['Índice', 'Probabilidade'], tablefmt='orgtbl'))\n",
        "\n",
        "exibirMatriz(P, 0)"
      ],
      "metadata": {
        "colab": {
          "base_uri": "https://localhost:8080/"
        },
        "id": "2ILKb8Dv-VZ2",
        "outputId": "b4cf96e2-ae17-445d-f2f5-d9e9db5c102e"
      },
      "execution_count": null,
      "outputs": [
        {
          "output_type": "stream",
          "name": "stdout",
          "text": [
            "|   Índice |   Probabilidade |\n",
            "|----------+-----------------|\n",
            "|        0 |       0         |\n",
            "|        1 |       0         |\n",
            "|        2 |       0         |\n",
            "|        3 |       0.0555556 |\n",
            "|        4 |       0.0555556 |\n",
            "|        5 |       0.111111  |\n",
            "|        6 |       0.111111  |\n",
            "|        7 |       0.166667  |\n",
            "|        8 |       0.111111  |\n",
            "|        9 |       0.111111  |\n",
            "|       10 |       0.0555556 |\n",
            "|       11 |       0.0555556 |\n",
            "|       12 |       0         |\n",
            "|       13 |       0         |\n",
            "|       14 |       0         |\n",
            "|       15 |       0         |\n",
            "|       16 |       0         |\n",
            "|       17 |       0         |\n",
            "|       18 |       0         |\n",
            "|       19 |       0         |\n",
            "|       20 |       0         |\n",
            "|       21 |       0         |\n",
            "|       22 |       0         |\n",
            "|       23 |       0         |\n",
            "|       24 |       0         |\n",
            "|       25 |       0         |\n",
            "|       26 |       0         |\n",
            "|       27 |       0         |\n",
            "|       28 |       0         |\n",
            "|       29 |       0         |\n",
            "|       30 |       0         |\n",
            "|       31 |       0         |\n",
            "|       32 |       0         |\n",
            "|       33 |       0         |\n",
            "|       34 |       0         |\n",
            "|       35 |       0         |\n",
            "|       36 |       0         |\n",
            "|       37 |       0         |\n",
            "|       38 |       0         |\n",
            "|       39 |       0         |\n",
            "|       40 |       0.166667  |\n",
            "|       41 |       0         |\n",
            "|       42 |       0         |\n",
            "|       43 |       0         |\n",
            "|       44 |       0         |\n",
            "|       45 |       0         |\n",
            "|       46 |       0         |\n",
            "|       47 |       0         |\n",
            "|       48 |       0         |\n",
            "|       49 |       0         |\n",
            "|       50 |       0         |\n",
            "|       51 |       0         |\n",
            "|       52 |       0         |\n",
            "|       53 |       0         |\n",
            "|       54 |       0         |\n",
            "|       55 |       0         |\n",
            "|       56 |       0         |\n",
            "|       57 |       0         |\n",
            "|       58 |       0         |\n",
            "|       59 |       0         |\n",
            "|       60 |       0         |\n",
            "|       61 |       0         |\n",
            "|       62 |       0         |\n",
            "|       63 |       0         |\n",
            "|       64 |       0         |\n",
            "|       65 |       0         |\n",
            "|       66 |       0         |\n",
            "|       67 |       0         |\n",
            "|       68 |       0         |\n",
            "|       69 |       0         |\n",
            "|       70 |       0         |\n",
            "|       71 |       0         |\n",
            "|       72 |       0         |\n",
            "|       73 |       0         |\n",
            "|       74 |       0         |\n",
            "|       75 |       0         |\n",
            "|       76 |       0         |\n",
            "|       77 |       0         |\n",
            "|       78 |       0         |\n",
            "|       79 |       0         |\n",
            "|       80 |       0         |\n",
            "|       81 |       0         |\n",
            "|       82 |       0         |\n",
            "|       83 |       0         |\n",
            "|       84 |       0         |\n",
            "|       85 |       0         |\n",
            "|       86 |       0         |\n",
            "|       87 |       0         |\n",
            "|       88 |       0         |\n",
            "|       89 |       0         |\n",
            "|       90 |       0         |\n",
            "|       91 |       0         |\n",
            "|       92 |       0         |\n",
            "|       93 |       0         |\n",
            "|       94 |       0         |\n",
            "|       95 |       0         |\n",
            "|       96 |       0         |\n",
            "|       97 |       0         |\n",
            "|       98 |       0         |\n",
            "|       99 |       0         |\n",
            "|      100 |       0         |\n",
            "|      101 |       0         |\n",
            "|      102 |       0         |\n",
            "|      103 |       0         |\n",
            "|      104 |       0         |\n",
            "|      105 |       0         |\n",
            "|      106 |       0         |\n",
            "|      107 |       0         |\n",
            "|      108 |       0         |\n",
            "|      109 |       0         |\n",
            "|      110 |       0         |\n",
            "|      111 |       0         |\n",
            "|      112 |       0         |\n",
            "|      113 |       0         |\n",
            "|      114 |       0         |\n",
            "|      115 |       0         |\n",
            "|      116 |       0         |\n",
            "|      117 |       0         |\n",
            "|      118 |       0         |\n",
            "|      119 |       0         |\n",
            "|      120 |       0         |\n",
            "|      121 |       0         |\n"
          ]
        }
      ]
    },
    {
      "cell_type": "markdown",
      "source": [
        "# Simulação do jogo\n",
        "\n",
        "Denote por:\n",
        "\n",
        "*   **c** o estado de estar na casa c com o status = **livre**\n",
        "*   **c'** o estado de estar na casa c com o status = **suspeito**\n",
        "*   **c''** o estado de estar na casa c com o status = **muito suspeito**\n",
        "*   **19*** o estado de estar preso com o status = **recém prisioneiro**\n",
        "*   **19**** o estado de estar preso com o status = **prisioneiro**\n",
        "\n"
      ],
      "metadata": {
        "id": "a1p-j2ZJ_6V2"
      }
    },
    {
      "cell_type": "code",
      "source": [
        "import random\n",
        "from enum import Enum\n",
        "\n",
        "Status = Enum('Status', ['Livre', 'Suspeito', 'Muito_suspeito', 'Recem_prisioneiro', 'Prisioneiro'])\n",
        "\n",
        "def rolarDados():\n",
        "  dado1 = random.randint(1, 6)\n",
        "  dado2 = random.randint(1, 6)\n",
        "\n",
        "  return dado1 + dado2, dado1 == dado2, dado1, dado2\n",
        "\n",
        "def getPosicao(ehIgual, soma, posicaoAnt, statusAnt):\n",
        "  if statusAnt == Status.Livre:\n",
        "    if ehIgual:\n",
        "      return posicaoAnt, Status.Suspeito\n",
        "    else:\n",
        "      return (posicaoAnt + soma) % 40, Status.Livre\n",
        "\n",
        "  elif statusAnt == Status.Suspeito:\n",
        "    if ehIgual:\n",
        "      return posicaoAnt, Status.Muito_suspeito\n",
        "    else:\n",
        "      return (posicaoAnt + soma) % 40, Status.Livre\n",
        "\n",
        "  elif statusAnt == Status.Muito_suspeito:\n",
        "    if ehIgual:\n",
        "      return 19, Status.Recem_prisioneiro\n",
        "    else:\n",
        "      return (posicaoAnt + soma) % 40, Status.Livre\n",
        "\n",
        "  elif statusAnt == Status.Recem_prisioneiro:\n",
        "    if ehIgual:\n",
        "      return posicaoAnt, Status.Livre\n",
        "    else:\n",
        "      return posicaoAnt, Status.Prisioneiro\n",
        "\n",
        "  elif statusAnt == Status.Prisioneiro:\n",
        "    return posicaoAnt, Status.Livre\n",
        "\n",
        "def formatarHistorico(historicoPosicao, historicoStatus):\n",
        "  flags = ['', '\\'', '\\'\\'', '*', '**']\n",
        "  historicoFormatado = []\n",
        "\n",
        "  for i in range(len(historicoPosicao)):\n",
        "    historicoFormatado.append(f'{historicoPosicao[i]}{flags[historicoStatus[i].value - 1]}')\n",
        "  \n",
        "  return historicoFormatado\n",
        "\n",
        "def simularJogo(numIteracoes, retornarPrimeiraPrisao = False):\n",
        "  # Posição: '0', '2\\'', '2\\'\\'', 19, 19*, 19**\n",
        "  historicoDePosicao = [0]\n",
        "\n",
        "  # Status: 'Livre', 'Suspeito', 'Muito_suspeito', 'Recem_prisioneiro', 'Prisioneiro'\n",
        "  historicoDeStatus = [Status.Livre]\n",
        "\n",
        "  # Rolagem: 1 + 1, 2 + 3, 4 + 6\n",
        "  historicoDeRolagem = []\n",
        "\n",
        "  passos = 0\n",
        "\n",
        "  for i in range(numIteracoes):\n",
        "    soma, ehIgual, dado1, dado2 = rolarDados()\n",
        "\n",
        "    novaPosicao, novoStatus = getPosicao(ehIgual, soma, historicoDePosicao[i], historicoDeStatus[i])\n",
        "\n",
        "    if novaPosicao != historicoDePosicao[i]:\n",
        "      passos += 1\n",
        "\n",
        "    historicoDePosicao.append(novaPosicao)\n",
        "    historicoDeStatus.append(novoStatus)\n",
        "    historicoDeRolagem.append(f'{dado1} + {dado2}')\n",
        "\n",
        "    if(retornarPrimeiraPrisao and novoStatus == Status.Recem_prisioneiro):\n",
        "      return passos\n",
        "\n",
        "  if retornarPrimeiraPrisao:\n",
        "    return -1\n",
        "  \n",
        "  return formatarHistorico(historicoDePosicao, historicoDeStatus), historicoDeRolagem\n",
        "\n",
        "simularJogo(10)"
      ],
      "metadata": {
        "colab": {
          "base_uri": "https://localhost:8080/"
        },
        "id": "JxEoJvY_AAQY",
        "outputId": "12b99b95-dd5b-470b-bb02-d653a645153e"
      },
      "execution_count": null,
      "outputs": [
        {
          "output_type": "execute_result",
          "data": {
            "text/plain": [
              "(['0', '7', '12', \"12'\", '20', '28', '37', '2', '7', '17', '24'],\n",
              " ['5 + 2',\n",
              "  '3 + 2',\n",
              "  '1 + 1',\n",
              "  '6 + 2',\n",
              "  '2 + 6',\n",
              "  '5 + 4',\n",
              "  '2 + 3',\n",
              "  '2 + 3',\n",
              "  '6 + 4',\n",
              "  '1 + 6'])"
            ]
          },
          "metadata": {},
          "execution_count": 234
        }
      ]
    },
    {
      "cell_type": "markdown",
      "source": [
        "# Aproximação para o valor esperado de Y\n",
        "\n",
        "Primeiramente, reutilizei a função **simularJogo** que simula o jogo até o jogador ser preso – quando é passado um parâmetro adicional –, retornando a quantidade de passos. Após isso, implementei a função **calcularValorEsperado**, responsável por calcular o valor esperado de Y com base num vetor que armazena os passos de diversas simulações. Essa função faz uma média ponderada com as simulações e retorna o valor esperado aproximado.\n",
        "\n",
        "Segue abaixo o cálculo do valor esperado de Y aproximado:\n",
        "\n",
        "Seja $e_{n} = \\text{Quantidade de jogadas até ir preso}$ e $p_{n} = \\frac{\\text{Quantidade de ocorrências de } e_{n}}{\\text{Total de simulações}}$\n",
        "\n",
        "$E[Y] = \\sum_{n=1}^{k} e_{n} p_{n}$"
      ],
      "metadata": {
        "id": "7f4Q1MxyImw2"
      }
    },
    {
      "cell_type": "code",
      "source": [
        "def calcularValorEsperado(vetor, quadrado = False):\n",
        "  total = len(vetor)\n",
        "  valorEsperado = 0\n",
        "\n",
        "  for i in list(dict.fromkeys(vetor)):\n",
        "    if not quadrado:\n",
        "      valorEsperado += i * (vetor.count(i) / total)\n",
        "    else:\n",
        "      valorEsperado += i**2 * (vetor.count(i) / total) \n",
        "\n",
        "  return valorEsperado\n",
        "\n",
        "simulacoes = []\n",
        "\n",
        "for i in range(10000):\n",
        "  simulacoes.append(simularJogo(10000, True))\n",
        "\n",
        "print(f'Valor esperado de Y aproximado: {calcularValorEsperado(simulacoes)}')\n",
        "print(f'Variância: {calcularValorEsperado(simulacoes, True) - calcularValorEsperado(simulacoes)**2}')\n",
        "print(f'Prisão mais demorada: {max(simulacoes)}')\n",
        "print(f'Prisão mais rápida: {min(simulacoes)}')"
      ],
      "metadata": {
        "colab": {
          "base_uri": "https://localhost:8080/"
        },
        "id": "7zCkooiSI09l",
        "outputId": "78e8ff0f-f420-481b-cf2d-1968ace53482"
      },
      "execution_count": null,
      "outputs": [
        {
          "output_type": "stream",
          "name": "stdout",
          "text": [
            "Valor esperado de Y aproximado: 218.25319999999965\n",
            "Variância: 45838.64588976021\n",
            "Prisão mais demorada: 2094\n",
            "Prisão mais rápida: 1\n"
          ]
        }
      ]
    },
    {
      "cell_type": "markdown",
      "source": [
        "## Justificativa matemática\n",
        "\n",
        "Dado que a Distribuição Geométrica é utilizada para modelar variáveis aleatórias que contam o número de realizações até que o primeiro sucesso ocorra, será utilizada essa distribuição para a variável aleatória Y. Além disso, como Y é a variável aleatória que representa a quantidade de passos que o jogador dá até a sua primeira prisão, o sucesso será definido pela probabilidade de obtenção de três lançamentos, nos quais os dados possuem o mesmo valor númerico.\n",
        "\n",
        "A partir disso, temos que:\n",
        "\n",
        "$ \\text{Seja p = Probabilidade de sucesso} = \\frac{1}{6} \\cdot \\frac{1}{6} \\cdot \\frac{1}{6} = \\frac{1}{216} $\n",
        "\n",
        "$ Y \\sim Geo(p)\\text{ | P(Y = y)} = (1 - p)^{y}p $\n",
        "\n",
        "Visto que Y é uma distribuição Geométrica, logo, possui a seguinte propriedade:\n",
        "\n",
        "$ E[Y] = \\frac{1}{p} = 216 $\n",
        "\n",
        "Analisando os dados da simulação, observa-se que o valor esperado de Y aproximado é 217 em média, o que pode ser considerado uma boa aproximação, visto que o valor esperado da distribuição geométrica é 216 e a variância da simulação é 48000, em média. Nesse sentido, há também uma diferença muito grande entre a menor e a maior quantidade de passos em que ocorreu a primeira prisão do jogador, revelando que, embora houvesse essa variação grande, o valor esperado ainda se aproximou da esperança da distribuição geométrica.\n",
        "\n",
        "\n",
        "\n",
        "\n",
        "\n"
      ],
      "metadata": {
        "id": "57URVBlybr-e"
      }
    },
    {
      "cell_type": "markdown",
      "source": [
        "# Função massa de probabilidade de Z"
      ],
      "metadata": {
        "id": "t8xNU2RcSGRk"
      }
    },
    {
      "cell_type": "code",
      "source": [
        "from numpy.linalg import matrix_power\n",
        "import matplotlib.pyplot as pyplot\n",
        "from tabulate import tabulate\n",
        "\n",
        "def funcaoMassaDePosicao(P):\n",
        "  Pn = matrix_power(P, 1000000)\n",
        "\n",
        "  p = numpy.zeros((1, len(Pn[0])))\n",
        "  p[0][0] = 1\n",
        "\n",
        "  pn = numpy.matmul(p, Pn)\n",
        "\n",
        "  probabilidades = numpy.zeros(40)\n",
        "\n",
        "  for i in range(120):\n",
        "    probabilidades[i % 40] += pn[0][i]\n",
        "  probabilidades[19] += pn[0][120] + pn[0][121]\n",
        "\n",
        "  return probabilidades\n",
        "\n",
        "def valorEsperado(F):\n",
        "  valorEsperado = 0\n",
        "\n",
        "  for i in range(40):\n",
        "    valorEsperado += i * F[i]\n",
        "\n",
        "  return valorEsperado\n",
        "\n",
        "def plotarFuncaoMassa(F, nome):\n",
        "  x = []\n",
        "  y = []\n",
        "\n",
        "  for i in range(len(F)):\n",
        "    x.append(i)\n",
        "    y.append(F[i])\n",
        "\n",
        "  pyplot.plot(x, y)\n",
        "  pyplot.xlabel('Casa')\n",
        "  pyplot.ylabel('Probabilidade')\n",
        "  pyplot.title(nome)\n",
        "  pyplot.show()"
      ],
      "metadata": {
        "id": "pMzT-hb3aaZz"
      },
      "execution_count": null,
      "outputs": []
    },
    {
      "cell_type": "markdown",
      "source": [
        "## Gráfico e valores da função Z"
      ],
      "metadata": {
        "id": "h4RjOn4JYw3I"
      }
    },
    {
      "cell_type": "code",
      "source": [
        "F = funcaoMassaDePosicao(P)\n",
        "casaMaisVisitada = valorEsperado(F)\n",
        "\n",
        "print(f'\\nCasa em que o jogador passa mais tempo, em média: {casaMaisVisitada}\\n')\n",
        "plotarFuncaoMassa(F, 'Função massa de probababilidade Z')\n",
        "\n",
        "print(f'\\nFunção massa de probabilidade de Z: \\n')\n",
        "\n",
        "tabelaZDados = []\n",
        "\n",
        "for i in range(len(F)):\n",
        "  tabelaZDados.append([i + 1, F[i]])\n",
        "\n",
        "print(tabulate(tabelaZDados, headers=['Casa', 'Probabilidade'], tablefmt='orgtbl'))"
      ],
      "metadata": {
        "colab": {
          "base_uri": "https://localhost:8080/",
          "height": 1000
        },
        "id": "km-CesrKH7Qq",
        "outputId": "b5d3869c-3f49-42f6-a42a-212e2989f682"
      },
      "execution_count": null,
      "outputs": [
        {
          "output_type": "stream",
          "name": "stdout",
          "text": [
            "\n",
            "Casa em que o jogador passa mais tempo, em média: 19.536201116016294\n",
            "\n"
          ]
        },
        {
          "output_type": "display_data",
          "data": {
            "text/plain": [
              "<Figure size 432x288 with 1 Axes>"
            ],
            "image/png": "[encoded data removed]"
          },
          "metadata": {
            "needs_background": "light"
          }
        },
        {
          "output_type": "stream",
          "name": "stdout",
          "text": [
            "\n",
            "Função massa de probabilidade de Z: \n",
            "\n",
            "|   Casa |   Probabilidade |\n",
            "|--------+-----------------|\n",
            "|      1 |       0.0247301 |\n",
            "|      2 |       0.0247262 |\n",
            "|      3 |       0.0247143 |\n",
            "|      4 |       0.0247007 |\n",
            "|      5 |       0.0246866 |\n",
            "|      6 |       0.0246623 |\n",
            "|      7 |       0.0246444 |\n",
            "|      8 |       0.0246247 |\n",
            "|      9 |       0.0246102 |\n",
            "|     10 |       0.0245948 |\n",
            "|     11 |       0.0245807 |\n",
            "|     12 |       0.0245654 |\n",
            "|     13 |       0.0245488 |\n",
            "|     14 |       0.024532  |\n",
            "|     15 |       0.0245147 |\n",
            "|     16 |       0.0244983 |\n",
            "|     17 |       0.0244817 |\n",
            "|     18 |       0.024466  |\n",
            "|     19 |       0.0244501 |\n",
            "|     20 |       0.0360869 |\n",
            "|     21 |       0.024418  |\n",
            "|     22 |       0.0244017 |\n",
            "|     23 |       0.0246904 |\n",
            "|     24 |       0.0246741 |\n",
            "|     25 |       0.024963  |\n",
            "|     26 |       0.0249671 |\n",
            "|     27 |       0.0252764 |\n",
            "|     28 |       0.025016  |\n",
            "|     29 |       0.025062  |\n",
            "|     30 |       0.024865  |\n",
            "|     31 |       0.0249379 |\n",
            "|     32 |       0.0247517 |\n",
            "|     33 |       0.0248033 |\n",
            "|     34 |       0.0248851 |\n",
            "|     35 |       0.0248654 |\n",
            "|     36 |       0.0248751 |\n",
            "|     37 |       0.024822  |\n",
            "|     38 |       0.024806  |\n",
            "|     39 |       0.0247553 |\n",
            "|     40 |       0.0247458 |\n"
          ]
        }
      ]
    },
    {
      "cell_type": "markdown",
      "source": [
        "## Construção da matriz de transição sem a regra da prisão"
      ],
      "metadata": {
        "id": "GmudU_TvbaxH"
      }
    },
    {
      "cell_type": "code",
      "source": [
        "PSemPrisao = numpy.zeros((40, 40))\n",
        "\n",
        "somaValores = somaValoresIguais + somaValoresDistintos\n",
        "\n",
        "probabilidadeGeral = []\n",
        "\n",
        "somaSemRepeticao = list(dict.fromkeys(somaValores))\n",
        "\n",
        "for i in somaSemRepeticao:\n",
        "  probabilidadeGeral.append(somaValores.count(i) / totalDeRolagens)\n",
        "\n",
        "for i in range(0, 40):\n",
        "  for j in range(0, 40):\n",
        "    if (j - i) % 40 in somaSemRepeticao:\n",
        "      PSemPrisao[i][j] = probabilidadeGeral[(j - i) % 40 - 3]"
      ],
      "metadata": {
        "id": "5eVi9NiWniUG"
      },
      "execution_count": null,
      "outputs": []
    },
    {
      "cell_type": "markdown",
      "source": [
        "## Gráfico e valores da função W (sem a regra da prisão)"
      ],
      "metadata": {
        "id": "x0SvrPIlbno_"
      }
    },
    {
      "cell_type": "code",
      "source": [
        "from numpy.linalg import matrix_power\n",
        "import matplotlib.pyplot as pyplot\n",
        "\n",
        "def funcaoMassaDePosicao2(P):\n",
        "  Pn = matrix_power(P, 1000000)\n",
        "\n",
        "  p = numpy.zeros((1, len(Pn[0])))\n",
        "  p[0][0] = 1\n",
        "\n",
        "  pn = numpy.matmul(p, Pn)\n",
        "\n",
        "  probabilidades = numpy.zeros(40)\n",
        "\n",
        "  for i in range(40):\n",
        "    probabilidades[i % 40] += pn[0][i]\n",
        "\n",
        "  return probabilidades\n",
        "\n",
        "F = funcaoMassaDePosicao2(PSemPrisao)\n",
        "tabelaWDados = []\n",
        "\n",
        "for i in range(len(F)):\n",
        "  tabelaWDados.append([i + 1, F[i]])\n",
        "\n",
        "plotarFuncaoMassa(F, 'Função massa de probababilidade W')\n",
        "\n",
        "print(f'\\nFunção massa de probabilidade de W: \\n')\n",
        "print(tabulate(tabelaWDados, headers=['Casa', 'Probabilidade'], tablefmt='orgtbl'))"
      ],
      "metadata": {
        "colab": {
          "base_uri": "https://localhost:8080/",
          "height": 1000
        },
        "id": "Zd0xrdHrF6WI",
        "outputId": "913b6516-29a2-4371-d273-2c6175516bf2"
      },
      "execution_count": null,
      "outputs": [
        {
          "output_type": "display_data",
          "data": {
            "text/plain": [
              "<Figure size 432x288 with 1 Axes>"
            ],
            "image/png": "[encoded data removed]"
          },
          "metadata": {
            "needs_background": "light"
          }
        },
        {
          "output_type": "stream",
          "name": "stdout",
          "text": [
            "\n",
            "Função massa de probabilidade de W: \n",
            "\n",
            "|   Casa |   Probabilidade |\n",
            "|--------+-----------------|\n",
            "|      1 |           0.025 |\n",
            "|      2 |           0.025 |\n",
            "|      3 |           0.025 |\n",
            "|      4 |           0.025 |\n",
            "|      5 |           0.025 |\n",
            "|      6 |           0.025 |\n",
            "|      7 |           0.025 |\n",
            "|      8 |           0.025 |\n",
            "|      9 |           0.025 |\n",
            "|     10 |           0.025 |\n",
            "|     11 |           0.025 |\n",
            "|     12 |           0.025 |\n",
            "|     13 |           0.025 |\n",
            "|     14 |           0.025 |\n",
            "|     15 |           0.025 |\n",
            "|     16 |           0.025 |\n",
            "|     17 |           0.025 |\n",
            "|     18 |           0.025 |\n",
            "|     19 |           0.025 |\n",
            "|     20 |           0.025 |\n",
            "|     21 |           0.025 |\n",
            "|     22 |           0.025 |\n",
            "|     23 |           0.025 |\n",
            "|     24 |           0.025 |\n",
            "|     25 |           0.025 |\n",
            "|     26 |           0.025 |\n",
            "|     27 |           0.025 |\n",
            "|     28 |           0.025 |\n",
            "|     29 |           0.025 |\n",
            "|     30 |           0.025 |\n",
            "|     31 |           0.025 |\n",
            "|     32 |           0.025 |\n",
            "|     33 |           0.025 |\n",
            "|     34 |           0.025 |\n",
            "|     35 |           0.025 |\n",
            "|     36 |           0.025 |\n",
            "|     37 |           0.025 |\n",
            "|     38 |           0.025 |\n",
            "|     39 |           0.025 |\n",
            "|     40 |           0.025 |\n"
          ]
        }
      ]
    },
    {
      "cell_type": "markdown",
      "source": [
        "## Discussão dos resultados\n",
        "\n",
        "A função Z possui uma distribuição de probabilidade relativamente homogênea, com excessão da casa 20 que possui maior chance de jogador estar presente após um tempo suficientemente longo. Nesse contexto, é esperado que o jogador passe mais tempo na casa 20, uma vez que há maior probabilidade dele estar nessa casa. Possivelmente, isso ocorre devido à particularidade da prisão localizar-se na casa 20, o que desfaz a homogeniedade da distribuição de probabilidade.\n",
        "\n",
        "Ao analisarmos a função massa de probabilidade W, que não possui a regra da prisão, nota-se que a distribuição de probabilidade é completamente homogênea. Dessa forma, é possível inferir que essa regra de prisão é responsável por essa concentração de probabilidade na casa 20, o que acarreta nesse tempo a mais que o jogador passa na prisão, tanto visitando quanto como prisioneiro."
      ],
      "metadata": {
        "id": "L92bJ_pWaNSP"
      }
    }
  ]
}